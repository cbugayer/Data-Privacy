{
  "cells": [
    {
      "cell_type": "markdown",
      "metadata": {
        "colab_type": "text",
        "id": "view-in-github"
      },
      "source": [
        "<a href=\"https://colab.research.google.com/github/cbugayer/Data-Privacy/blob/main/logistic_regression.ipynb\" target=\"_parent\"><img src=\"https://colab.research.google.com/assets/colab-badge.svg\" alt=\"Open In Colab\"/></a>"
      ]
    },
    {
      "cell_type": "markdown",
      "metadata": {
        "id": "WlPCp9OKNn3Y"
      },
      "source": [
        "# Logistic Regression with Differential Privacy"
      ]
    },
    {
      "cell_type": "markdown",
      "metadata": {
        "id": "noR_uiQFNn3a"
      },
      "source": [
        "We start by importing the required libraries and modules and collecting the data that we need from the [Adult dataset](https://archive.ics.uci.edu/ml/datasets/adult)."
      ]
    },
    {
      "cell_type": "code",
      "execution_count": 2,
      "metadata": {
        "id": "ugUnXWJaNoyG"
      },
      "outputs": [
        {
          "name": "stdout",
          "output_type": "stream",
          "text": [
            "Requirement already satisfied: diffprivlib in c:\\users\\15164\\anaconda3\\anaconda3\\lib\\site-packages (0.4.1)\n",
            "Requirement already satisfied: scikit-learn>=0.22.0 in c:\\users\\15164\\anaconda3\\anaconda3\\lib\\site-packages (from diffprivlib) (0.24.2)\n",
            "Requirement already satisfied: joblib>=0.11 in c:\\users\\15164\\anaconda3\\anaconda3\\lib\\site-packages (from diffprivlib) (1.1.1)\n",
            "Requirement already satisfied: numpy>=1.17.0 in c:\\users\\15164\\anaconda3\\anaconda3\\lib\\site-packages (from diffprivlib) (1.19.5)\n",
            "Requirement already satisfied: setuptools>=39.0.1 in c:\\users\\15164\\anaconda3\\anaconda3\\lib\\site-packages (from diffprivlib) (39.1.0)\n",
            "Requirement already satisfied: scipy>=1.2.1 in c:\\users\\15164\\anaconda3\\anaconda3\\lib\\site-packages (from diffprivlib) (1.5.4)\n",
            "Requirement already satisfied: threadpoolctl>=2.0.0 in c:\\users\\15164\\anaconda3\\anaconda3\\lib\\site-packages (from scikit-learn>=0.22.0->diffprivlib) (3.1.0)\n"
          ]
        }
      ],
      "source": [
        "#Run this cell for setup\n",
        "!pip3 install diffprivlib\n",
        "from sklearn.utils import check_random_state as skl_check_random_state\n",
        "import secrets\n",
        "\n",
        "def check_random_state(seed, secure=False):\n",
        "    \"\"\"Turn seed into a np.random.RandomState or secrets.SystemRandom instance.\n",
        "    If secure=True, and seed is None (or was generated from a previous None seed), then secrets is used.  Otherwise a\n",
        "    np.random.RandomState is used.\n",
        "    Parameters\n",
        "    ----------\n",
        "    seed : None, int or instance of RandomState\n",
        "        If seed is None and secure is False, return the RandomState singleton used by np.random.\n",
        "        If seed is None and secure is True, return a SystemRandom instance from secrets.\n",
        "        If seed is an int, return a new RandomState instance seeded with seed.\n",
        "        If seed is already a RandomState or SystemRandom instance, return it.\n",
        "        Otherwise raise ValueError.\n",
        "    secure : bool, default: False\n",
        "        Specifies if a secure random number generator from secrets can be used.\n",
        "    \"\"\"\n",
        "    if secure:\n",
        "        if isinstance(seed, secrets.SystemRandom):\n",
        "            return seed\n",
        "\n",
        "        if seed is None or seed is np.random.mtrand._rand:  # pylint: disable=protected-access\n",
        "            return secrets.SystemRandom()\n",
        "    elif isinstance(seed, secrets.SystemRandom):\n",
        "        raise ValueError(\"secrets.SystemRandom instance cannot be passed when secure is False.\")\n",
        "\n",
        "    return skl_check_random_state(seed)"
      ]
    },
    {
      "cell_type": "code",
      "execution_count": 25,
      "metadata": {
        "id": "wUy7dVOGNn3b"
      },
      "outputs": [],
      "source": [
        "import diffprivlib.models as dp\n",
        "import numpy as np\n",
        "from sklearn.linear_model import LogisticRegression"
      ]
    },
    {
      "cell_type": "code",
      "execution_count": 4,
      "metadata": {
        "id": "9-FlubtbNn3b"
      },
      "outputs": [],
      "source": [
        "X_train = np.loadtxt(\"https://archive.ics.uci.edu/ml/machine-learning-databases/adult/adult.data\",\n",
        "                        usecols=(0, 4, 10, 11, 12), delimiter=\",\")\n",
        "\n",
        "y_train = np.loadtxt(\"https://archive.ics.uci.edu/ml/machine-learning-databases/adult/adult.data\",\n",
        "                        usecols=14, dtype=str, delimiter=\",\")"
      ]
    },
    {
      "cell_type": "code",
      "execution_count": 5,
      "metadata": {
        "id": "YaLPpoylNn3c",
        "outputId": "2a07ec00-f640-41e5-f173-29080287bd90"
      },
      "outputs": [
        {
          "data": {
            "text/plain": [
              "array([' <=50K', ' >50K'], dtype='<U6')"
            ]
          },
          "execution_count": 5,
          "metadata": {},
          "output_type": "execute_result"
        }
      ],
      "source": [
        "np.unique(y_train)"
      ]
    },
    {
      "cell_type": "markdown",
      "metadata": {
        "id": "5gsDEyolNn3c"
      },
      "source": [
        "Let's also collect the test data from Adult to test our models once they're trained."
      ]
    },
    {
      "cell_type": "code",
      "execution_count": 6,
      "metadata": {
        "id": "C2aDM6v4Nn3d"
      },
      "outputs": [],
      "source": [
        "X_test = np.loadtxt(\"https://archive.ics.uci.edu/ml/machine-learning-databases/adult/adult.test\",\n",
        "                        usecols=(0, 4, 10, 11, 12), delimiter=\",\", skiprows=1)\n",
        "\n",
        "y_test = np.loadtxt(\"https://archive.ics.uci.edu/ml/machine-learning-databases/adult/adult.test\",\n",
        "                        usecols=14, dtype=str, delimiter=\",\", skiprows=1)\n",
        "# Must trim trailing period \".\" from label\n",
        "y_test = np.array([a[:-1] for a in y_test])"
      ]
    },
    {
      "cell_type": "code",
      "execution_count": 7,
      "metadata": {
        "id": "vW2judMINn3d",
        "outputId": "a08cb25c-8dcb-450b-bc23-16d9ad29b9b0"
      },
      "outputs": [
        {
          "data": {
            "text/plain": [
              "array([' <=50K', ' >50K'], dtype='<U6')"
            ]
          },
          "execution_count": 7,
          "metadata": {},
          "output_type": "execute_result"
        }
      ],
      "source": [
        "np.unique(y_test)"
      ]
    },
    {
      "cell_type": "markdown",
      "metadata": {
        "id": "aAXwI0NCNn3d"
      },
      "source": [
        "## Logistic Regression with no privacy"
      ]
    },
    {
      "cell_type": "markdown",
      "metadata": {
        "id": "nZCM8QXTNn3d"
      },
      "source": [
        "To begin, let's first train a regular (non-private) logistic regression classifier, and test its accuracy."
      ]
    },
    {
      "cell_type": "code",
      "execution_count": 8,
      "metadata": {
        "id": "XK4ybTUtNn3d",
        "outputId": "cd7f49fe-d486-42d4-b60f-10f75233ba28",
        "scrolled": true
      },
      "outputs": [
        {
          "data": {
            "text/plain": [
              "LogisticRegression()"
            ]
          },
          "execution_count": 8,
          "metadata": {},
          "output_type": "execute_result"
        }
      ],
      "source": [
        "clf = LogisticRegression(solver=\"lbfgs\")\n",
        "clf.fit(X_train, y_train)"
      ]
    },
    {
      "cell_type": "code",
      "execution_count": 9,
      "metadata": {
        "id": "KtrSJ1BFNn3e",
        "outputId": "dc7f62c2-1271-4541-ecb4-500218e5364b"
      },
      "outputs": [
        {
          "name": "stdout",
          "output_type": "stream",
          "text": [
            "Non-private test accuracy: 81.25%\n"
          ]
        }
      ],
      "source": [
        "baseline = clf.score(X_test, y_test)\n",
        "print(\"Non-private test accuracy: %.2f%%\" % (baseline * 100))"
      ]
    },
    {
      "cell_type": "markdown",
      "metadata": {
        "id": "57D3DeM_Nn3e"
      },
      "source": [
        "## Differentially private logistic regression"
      ]
    },
    {
      "cell_type": "markdown",
      "metadata": {
        "id": "D54glCYQNn3e"
      },
      "source": [
        "Using the `diffprivlib.models.LogisticRegression` module of diffprivlib, we can train a logistic regression classifier while satisfying differential privacy.\n",
        "\n",
        "If we don't specify any parameters, the model defaults to `epsilon = 1` and `data_norm = None`. If the norm of the data is not specified at initialisation (as in this case), the norm will be calculated on the data when `.fit()` is first called and a warning will be thrown as it causes a privacy leak. To ensure no additional privacy leakage, we should specify the data norm explicitly as an argument, and choose the bounds indepedently of the data (i.e. using domain knowledge).\n",
        "\n",
        "Additionally, the high `data_norm` that is read from the data in this instance gives poor results, with accuracy only slightly better than random. This is as a result of the large amount of noise requires to protect data spread over a large domain. By clipping the data to a smaller domain, accuracy improves markedly, as demonstrated below."
      ]
    },
    {
      "cell_type": "code",
      "execution_count": 10,
      "metadata": {
        "id": "E0adW226Nn3e",
        "outputId": "9521c000-79e9-494a-adce-e87f84f8438f",
        "scrolled": true
      },
      "outputs": [
        {
          "name": "stderr",
          "output_type": "stream",
          "text": [
            "c:\\Users\\15164\\Anaconda3\\anaconda3\\lib\\site-packages\\diffprivlib\\utils.py:88: DiffprivlibCompatibilityWarning: Parameter 'random_state' is not functional in diffprivlib.  Remove this parameter to suppress this warning.\n",
            "  \"warning.\" % arg, DiffprivlibCompatibilityWarning)\n",
            "c:\\Users\\15164\\Anaconda3\\anaconda3\\lib\\site-packages\\diffprivlib\\models\\logistic_regression.py:223: PrivacyLeakWarning: Data norm has not been specified and will be calculated on the data provided.  This will result in additional privacy leakage. To ensure differential privacy and no additional privacy leakage, specify `data_norm` at initialisation.\n",
            "  \"privacy leakage, specify `data_norm` at initialisation.\", PrivacyLeakWarning)\n"
          ]
        },
        {
          "data": {
            "text/plain": [
              "LogisticRegression(accountant=BudgetAccountant(spent_budget=[(1.0, 0)]),\n",
              "                   data_norm=99999.04562544584)"
            ]
          },
          "execution_count": 10,
          "metadata": {},
          "output_type": "execute_result"
        }
      ],
      "source": [
        "dp_clf = dp.LogisticRegression(random_state=0)\n",
        "dp_clf.fit(X_train, y_train)"
      ]
    },
    {
      "cell_type": "code",
      "execution_count": 11,
      "metadata": {
        "id": "qhBaZsrjNn3f",
        "outputId": "aeb24efb-1335-492f-a390-2c0402f37e2f"
      },
      "outputs": [
        {
          "name": "stdout",
          "output_type": "stream",
          "text": [
            "Differentially private test accuracy (epsilon=1.00): 79.47%\n"
          ]
        }
      ],
      "source": [
        "print(\"Differentially private test accuracy (epsilon=%.2f): %.2f%%\" % \n",
        "     (dp_clf.epsilon, dp_clf.score(X_test, y_test) * 100))"
      ]
    },
    {
      "cell_type": "markdown",
      "metadata": {
        "id": "pLNlsqe_Nn3f"
      },
      "source": [
        "By setting `epsilon = float(\"inf\")`, we can produce the same result as the non-private logistic regression classifer."
      ]
    },
    {
      "cell_type": "code",
      "execution_count": 12,
      "metadata": {
        "id": "wUfL004eNn3f",
        "outputId": "f386d93c-9ed5-4a20-937f-bc1252e73ce5",
        "scrolled": true
      },
      "outputs": [
        {
          "data": {
            "text/plain": [
              "LogisticRegression(accountant=BudgetAccountant(spent_budget=[(1.0, 0), (inf, 0)]),\n",
              "                   data_norm=100000.0, epsilon=inf)"
            ]
          },
          "execution_count": 12,
          "metadata": {},
          "output_type": "execute_result"
        }
      ],
      "source": [
        "dp_clf = dp.LogisticRegression(epsilon=float(\"inf\"), data_norm=1e5)\n",
        "dp_clf.fit(X_train, y_train)"
      ]
    },
    {
      "cell_type": "code",
      "execution_count": 13,
      "metadata": {
        "id": "CjmD6pwKNn3f",
        "outputId": "d15a2f6e-b615-4fb9-dbd6-0b80b9380775"
      },
      "outputs": [
        {
          "name": "stdout",
          "output_type": "stream",
          "text": [
            "Agreement between non-private and differentially private (epsilon=inf) classifiers: 100.00%\n"
          ]
        }
      ],
      "source": [
        "print(\"Agreement between non-private and differentially private (epsilon=inf) classifiers: %.2f%%\" % \n",
        "     (dp_clf.score(X_test, clf.predict(X_test)) * 100))"
      ]
    },
    {
      "cell_type": "markdown",
      "metadata": {
        "id": "GxCx1nLGNn3f"
      },
      "source": [
        "## Tradeoff of accuracy and privacy"
      ]
    },
    {
      "cell_type": "markdown",
      "metadata": {
        "id": "acFgKfmDNn3g"
      },
      "source": [
        "We can also visualise the tradeoff between accuracy and `epsilon` using `matplotlib`."
      ]
    },
    {
      "cell_type": "code",
      "execution_count": 14,
      "metadata": {
        "id": "NeQSX6KrNn3g"
      },
      "outputs": [],
      "source": [
        "import warnings\n",
        "warnings.filterwarnings(\"ignore\")\n",
        "\n",
        "accuracy = []\n",
        "epsilons = np.logspace(-3, 1, 500)\n",
        "random_state = check_random_state(42)\n",
        "\n",
        "for eps in epsilons:\n",
        "    dp_clf = dp.LogisticRegression(epsilon=eps, data_norm=100, random_state=random_state)\n",
        "    dp_clf.fit(X_train, y_train)\n",
        "    accuracy.append(dp_clf.score(X_test, y_test))"
      ]
    },
    {
      "cell_type": "markdown",
      "metadata": {
        "id": "XoRq3DJnNn3g"
      },
      "source": [
        "Let's save the results using `pickle` so we can reproduce the plot easily in the future."
      ]
    },
    {
      "cell_type": "code",
      "execution_count": 15,
      "metadata": {
        "id": "p3OSwAyENn3g"
      },
      "outputs": [],
      "source": [
        "import pickle\n",
        "\n",
        "pickle.dump((epsilons, baseline, accuracy), open(\"lr_accuracy_500.p\", \"wb\" ) )"
      ]
    },
    {
      "cell_type": "markdown",
      "metadata": {
        "id": "4F_VRiZuNn3g"
      },
      "source": [
        "Let's plot the results using `matplotlib`. The discontinuty observed near `epsilon = 10` is an artifact of the model. Because of the norm-clipping applied to the dataset before training (`data_norm=100`), the accuracy plateaus without reaching the non-private baseline."
      ]
    },
    {
      "cell_type": "code",
      "execution_count": 16,
      "metadata": {
        "id": "tV2dUcFpNn3g",
        "outputId": "90898e5d-ab61-4bc9-f80d-444225feb426"
      },
      "outputs": [
        {
          "data": {
            "text/plain": [
              "<Figure size 640x480 with 1 Axes>"
            ]
          },
          "metadata": {},
          "output_type": "display_data"
        }
      ],
      "source": [
        "import matplotlib.pyplot as plt\n",
        "import pickle\n",
        "\n",
        "epsilons, baseline, accuracy = pickle.load(open(\"lr_accuracy_500.p\", \"rb\"))\n",
        "\n",
        "plt.semilogx(epsilons, accuracy, label=\"Differentially private\")\n",
        "plt.plot(epsilons, np.ones_like(epsilons) * baseline, dashes=[2,2], label=\"Non-private\")\n",
        "plt.title(\"Differentially private logistic regression accuracy\")\n",
        "plt.xlabel(\"epsilon\")\n",
        "plt.ylabel(\"Accuracy\")\n",
        "plt.ylim(0, 1)\n",
        "plt.xlim(epsilons[0], epsilons[-1])\n",
        "plt.legend(loc=3)\n",
        "plt.show()"
      ]
    },
    {
      "cell_type": "code",
      "execution_count": 20,
      "metadata": {},
      "outputs": [],
      "source": [
        "from sklearn import datasets\n",
        "df = datasets.load_breast_cancer()"
      ]
    },
    {
      "cell_type": "code",
      "execution_count": 22,
      "metadata": {},
      "outputs": [
        {
          "name": "stderr",
          "output_type": "stream",
          "text": [
            "c:\\Users\\15164\\Anaconda3\\anaconda3\\lib\\site-packages\\sklearn\\linear_model\\_logistic.py:765: ConvergenceWarning: lbfgs failed to converge (status=1):\n",
            "STOP: TOTAL NO. of ITERATIONS REACHED LIMIT.\n",
            "\n",
            "Increase the number of iterations (max_iter) or scale the data as shown in:\n",
            "    https://scikit-learn.org/stable/modules/preprocessing.html\n",
            "Please also refer to the documentation for alternative solver options:\n",
            "    https://scikit-learn.org/stable/modules/linear_model.html#logistic-regression\n",
            "  extra_warning_msg=_LOGISTIC_SOLVER_CONVERGENCE_MSG)\n"
          ]
        },
        {
          "data": {
            "text/plain": [
              "0.9472759226713533"
            ]
          },
          "execution_count": 22,
          "metadata": {},
          "output_type": "execute_result"
        }
      ],
      "source": [
        "from sklearn.linear_model import LogisticRegression\n",
        "clf = LogisticRegression(random_state=0).fit(df.data, df.target)\n",
        "clf.score(df.data, df.target)"
      ]
    },
    {
      "cell_type": "code",
      "execution_count": 53,
      "metadata": {},
      "outputs": [
        {
          "name": "stderr",
          "output_type": "stream",
          "text": [
            "c:\\Users\\15164\\Anaconda3\\anaconda3\\lib\\site-packages\\diffprivlib\\utils.py:88: DiffprivlibCompatibilityWarning: Parameter 'random_state' is not functional in diffprivlib.  Remove this parameter to suppress this warning.\n",
            "  \"warning.\" % arg, DiffprivlibCompatibilityWarning)\n"
          ]
        },
        {
          "data": {
            "text/plain": [
              "0.37258347978910367"
            ]
          },
          "execution_count": 53,
          "metadata": {},
          "output_type": "execute_result"
        }
      ],
      "source": [
        "clf2 = dp.LogisticRegression(epsilon=1.0, data_norm=1.0, random_state=0).fit(df.data, df.target)\n",
        "clf2.score(df.data, df.target)"
      ]
    },
    {
      "cell_type": "code",
      "execution_count": 51,
      "metadata": {},
      "outputs": [
        {
          "name": "stderr",
          "output_type": "stream",
          "text": [
            "c:\\Users\\15164\\Anaconda3\\anaconda3\\lib\\site-packages\\diffprivlib\\utils.py:88: DiffprivlibCompatibilityWarning: Parameter 'random_state' is not functional in diffprivlib.  Remove this parameter to suppress this warning.\n",
            "  \"warning.\" % arg, DiffprivlibCompatibilityWarning)\n",
            "c:\\Users\\15164\\Anaconda3\\anaconda3\\lib\\site-packages\\diffprivlib\\utils.py:88: DiffprivlibCompatibilityWarning: Parameter 'random_state' is not functional in diffprivlib.  Remove this parameter to suppress this warning.\n",
            "  \"warning.\" % arg, DiffprivlibCompatibilityWarning)\n",
            "c:\\Users\\15164\\Anaconda3\\anaconda3\\lib\\site-packages\\diffprivlib\\utils.py:88: DiffprivlibCompatibilityWarning: Parameter 'random_state' is not functional in diffprivlib.  Remove this parameter to suppress this warning.\n",
            "  \"warning.\" % arg, DiffprivlibCompatibilityWarning)\n",
            "c:\\Users\\15164\\Anaconda3\\anaconda3\\lib\\site-packages\\diffprivlib\\utils.py:88: DiffprivlibCompatibilityWarning: Parameter 'random_state' is not functional in diffprivlib.  Remove this parameter to suppress this warning.\n",
            "  \"warning.\" % arg, DiffprivlibCompatibilityWarning)\n",
            "c:\\Users\\15164\\Anaconda3\\anaconda3\\lib\\site-packages\\diffprivlib\\utils.py:88: DiffprivlibCompatibilityWarning: Parameter 'random_state' is not functional in diffprivlib.  Remove this parameter to suppress this warning.\n",
            "  \"warning.\" % arg, DiffprivlibCompatibilityWarning)\n",
            "c:\\Users\\15164\\Anaconda3\\anaconda3\\lib\\site-packages\\diffprivlib\\utils.py:88: DiffprivlibCompatibilityWarning: Parameter 'random_state' is not functional in diffprivlib.  Remove this parameter to suppress this warning.\n",
            "  \"warning.\" % arg, DiffprivlibCompatibilityWarning)\n",
            "c:\\Users\\15164\\Anaconda3\\anaconda3\\lib\\site-packages\\diffprivlib\\utils.py:88: DiffprivlibCompatibilityWarning: Parameter 'random_state' is not functional in diffprivlib.  Remove this parameter to suppress this warning.\n",
            "  \"warning.\" % arg, DiffprivlibCompatibilityWarning)\n",
            "c:\\Users\\15164\\Anaconda3\\anaconda3\\lib\\site-packages\\diffprivlib\\utils.py:88: DiffprivlibCompatibilityWarning: Parameter 'random_state' is not functional in diffprivlib.  Remove this parameter to suppress this warning.\n",
            "  \"warning.\" % arg, DiffprivlibCompatibilityWarning)\n",
            "c:\\Users\\15164\\Anaconda3\\anaconda3\\lib\\site-packages\\diffprivlib\\utils.py:88: DiffprivlibCompatibilityWarning: Parameter 'random_state' is not functional in diffprivlib.  Remove this parameter to suppress this warning.\n",
            "  \"warning.\" % arg, DiffprivlibCompatibilityWarning)\n",
            "c:\\Users\\15164\\Anaconda3\\anaconda3\\lib\\site-packages\\diffprivlib\\utils.py:88: DiffprivlibCompatibilityWarning: Parameter 'random_state' is not functional in diffprivlib.  Remove this parameter to suppress this warning.\n",
            "  \"warning.\" % arg, DiffprivlibCompatibilityWarning)\n",
            "c:\\Users\\15164\\Anaconda3\\anaconda3\\lib\\site-packages\\diffprivlib\\utils.py:88: DiffprivlibCompatibilityWarning: Parameter 'random_state' is not functional in diffprivlib.  Remove this parameter to suppress this warning.\n",
            "  \"warning.\" % arg, DiffprivlibCompatibilityWarning)\n",
            "c:\\Users\\15164\\Anaconda3\\anaconda3\\lib\\site-packages\\diffprivlib\\utils.py:88: DiffprivlibCompatibilityWarning: Parameter 'random_state' is not functional in diffprivlib.  Remove this parameter to suppress this warning.\n",
            "  \"warning.\" % arg, DiffprivlibCompatibilityWarning)\n",
            "c:\\Users\\15164\\Anaconda3\\anaconda3\\lib\\site-packages\\diffprivlib\\utils.py:88: DiffprivlibCompatibilityWarning: Parameter 'random_state' is not functional in diffprivlib.  Remove this parameter to suppress this warning.\n",
            "  \"warning.\" % arg, DiffprivlibCompatibilityWarning)\n",
            "c:\\Users\\15164\\Anaconda3\\anaconda3\\lib\\site-packages\\diffprivlib\\utils.py:88: DiffprivlibCompatibilityWarning: Parameter 'random_state' is not functional in diffprivlib.  Remove this parameter to suppress this warning.\n",
            "  \"warning.\" % arg, DiffprivlibCompatibilityWarning)\n",
            "c:\\Users\\15164\\Anaconda3\\anaconda3\\lib\\site-packages\\diffprivlib\\utils.py:88: DiffprivlibCompatibilityWarning: Parameter 'random_state' is not functional in diffprivlib.  Remove this parameter to suppress this warning.\n",
            "  \"warning.\" % arg, DiffprivlibCompatibilityWarning)\n",
            "c:\\Users\\15164\\Anaconda3\\anaconda3\\lib\\site-packages\\diffprivlib\\utils.py:88: DiffprivlibCompatibilityWarning: Parameter 'random_state' is not functional in diffprivlib.  Remove this parameter to suppress this warning.\n",
            "  \"warning.\" % arg, DiffprivlibCompatibilityWarning)\n",
            "c:\\Users\\15164\\Anaconda3\\anaconda3\\lib\\site-packages\\diffprivlib\\utils.py:88: DiffprivlibCompatibilityWarning: Parameter 'random_state' is not functional in diffprivlib.  Remove this parameter to suppress this warning.\n",
            "  \"warning.\" % arg, DiffprivlibCompatibilityWarning)\n",
            "c:\\Users\\15164\\Anaconda3\\anaconda3\\lib\\site-packages\\diffprivlib\\utils.py:88: DiffprivlibCompatibilityWarning: Parameter 'random_state' is not functional in diffprivlib.  Remove this parameter to suppress this warning.\n",
            "  \"warning.\" % arg, DiffprivlibCompatibilityWarning)\n",
            "c:\\Users\\15164\\Anaconda3\\anaconda3\\lib\\site-packages\\diffprivlib\\utils.py:88: DiffprivlibCompatibilityWarning: Parameter 'random_state' is not functional in diffprivlib.  Remove this parameter to suppress this warning.\n",
            "  \"warning.\" % arg, DiffprivlibCompatibilityWarning)\n",
            "c:\\Users\\15164\\Anaconda3\\anaconda3\\lib\\site-packages\\diffprivlib\\utils.py:88: DiffprivlibCompatibilityWarning: Parameter 'random_state' is not functional in diffprivlib.  Remove this parameter to suppress this warning.\n",
            "  \"warning.\" % arg, DiffprivlibCompatibilityWarning)\n",
            "c:\\Users\\15164\\Anaconda3\\anaconda3\\lib\\site-packages\\diffprivlib\\utils.py:88: DiffprivlibCompatibilityWarning: Parameter 'random_state' is not functional in diffprivlib.  Remove this parameter to suppress this warning.\n",
            "  \"warning.\" % arg, DiffprivlibCompatibilityWarning)\n",
            "c:\\Users\\15164\\Anaconda3\\anaconda3\\lib\\site-packages\\diffprivlib\\utils.py:88: DiffprivlibCompatibilityWarning: Parameter 'random_state' is not functional in diffprivlib.  Remove this parameter to suppress this warning.\n",
            "  \"warning.\" % arg, DiffprivlibCompatibilityWarning)\n",
            "c:\\Users\\15164\\Anaconda3\\anaconda3\\lib\\site-packages\\diffprivlib\\utils.py:88: DiffprivlibCompatibilityWarning: Parameter 'random_state' is not functional in diffprivlib.  Remove this parameter to suppress this warning.\n",
            "  \"warning.\" % arg, DiffprivlibCompatibilityWarning)\n",
            "c:\\Users\\15164\\Anaconda3\\anaconda3\\lib\\site-packages\\diffprivlib\\utils.py:88: DiffprivlibCompatibilityWarning: Parameter 'random_state' is not functional in diffprivlib.  Remove this parameter to suppress this warning.\n",
            "  \"warning.\" % arg, DiffprivlibCompatibilityWarning)\n",
            "c:\\Users\\15164\\Anaconda3\\anaconda3\\lib\\site-packages\\diffprivlib\\utils.py:88: DiffprivlibCompatibilityWarning: Parameter 'random_state' is not functional in diffprivlib.  Remove this parameter to suppress this warning.\n",
            "  \"warning.\" % arg, DiffprivlibCompatibilityWarning)\n",
            "c:\\Users\\15164\\Anaconda3\\anaconda3\\lib\\site-packages\\diffprivlib\\utils.py:88: DiffprivlibCompatibilityWarning: Parameter 'random_state' is not functional in diffprivlib.  Remove this parameter to suppress this warning.\n",
            "  \"warning.\" % arg, DiffprivlibCompatibilityWarning)\n",
            "c:\\Users\\15164\\Anaconda3\\anaconda3\\lib\\site-packages\\diffprivlib\\utils.py:88: DiffprivlibCompatibilityWarning: Parameter 'random_state' is not functional in diffprivlib.  Remove this parameter to suppress this warning.\n",
            "  \"warning.\" % arg, DiffprivlibCompatibilityWarning)\n",
            "c:\\Users\\15164\\Anaconda3\\anaconda3\\lib\\site-packages\\diffprivlib\\utils.py:88: DiffprivlibCompatibilityWarning: Parameter 'random_state' is not functional in diffprivlib.  Remove this parameter to suppress this warning.\n",
            "  \"warning.\" % arg, DiffprivlibCompatibilityWarning)\n",
            "c:\\Users\\15164\\Anaconda3\\anaconda3\\lib\\site-packages\\diffprivlib\\utils.py:88: DiffprivlibCompatibilityWarning: Parameter 'random_state' is not functional in diffprivlib.  Remove this parameter to suppress this warning.\n",
            "  \"warning.\" % arg, DiffprivlibCompatibilityWarning)\n",
            "c:\\Users\\15164\\Anaconda3\\anaconda3\\lib\\site-packages\\diffprivlib\\utils.py:88: DiffprivlibCompatibilityWarning: Parameter 'random_state' is not functional in diffprivlib.  Remove this parameter to suppress this warning.\n",
            "  \"warning.\" % arg, DiffprivlibCompatibilityWarning)\n",
            "c:\\Users\\15164\\Anaconda3\\anaconda3\\lib\\site-packages\\diffprivlib\\utils.py:88: DiffprivlibCompatibilityWarning: Parameter 'random_state' is not functional in diffprivlib.  Remove this parameter to suppress this warning.\n",
            "  \"warning.\" % arg, DiffprivlibCompatibilityWarning)\n",
            "c:\\Users\\15164\\Anaconda3\\anaconda3\\lib\\site-packages\\diffprivlib\\utils.py:88: DiffprivlibCompatibilityWarning: Parameter 'random_state' is not functional in diffprivlib.  Remove this parameter to suppress this warning.\n",
            "  \"warning.\" % arg, DiffprivlibCompatibilityWarning)\n",
            "c:\\Users\\15164\\Anaconda3\\anaconda3\\lib\\site-packages\\diffprivlib\\utils.py:88: DiffprivlibCompatibilityWarning: Parameter 'random_state' is not functional in diffprivlib.  Remove this parameter to suppress this warning.\n",
            "  \"warning.\" % arg, DiffprivlibCompatibilityWarning)\n",
            "c:\\Users\\15164\\Anaconda3\\anaconda3\\lib\\site-packages\\diffprivlib\\utils.py:88: DiffprivlibCompatibilityWarning: Parameter 'random_state' is not functional in diffprivlib.  Remove this parameter to suppress this warning.\n",
            "  \"warning.\" % arg, DiffprivlibCompatibilityWarning)\n",
            "c:\\Users\\15164\\Anaconda3\\anaconda3\\lib\\site-packages\\diffprivlib\\utils.py:88: DiffprivlibCompatibilityWarning: Parameter 'random_state' is not functional in diffprivlib.  Remove this parameter to suppress this warning.\n",
            "  \"warning.\" % arg, DiffprivlibCompatibilityWarning)\n",
            "c:\\Users\\15164\\Anaconda3\\anaconda3\\lib\\site-packages\\diffprivlib\\utils.py:88: DiffprivlibCompatibilityWarning: Parameter 'random_state' is not functional in diffprivlib.  Remove this parameter to suppress this warning.\n",
            "  \"warning.\" % arg, DiffprivlibCompatibilityWarning)\n",
            "c:\\Users\\15164\\Anaconda3\\anaconda3\\lib\\site-packages\\diffprivlib\\utils.py:88: DiffprivlibCompatibilityWarning: Parameter 'random_state' is not functional in diffprivlib.  Remove this parameter to suppress this warning.\n",
            "  \"warning.\" % arg, DiffprivlibCompatibilityWarning)\n",
            "c:\\Users\\15164\\Anaconda3\\anaconda3\\lib\\site-packages\\diffprivlib\\utils.py:88: DiffprivlibCompatibilityWarning: Parameter 'random_state' is not functional in diffprivlib.  Remove this parameter to suppress this warning.\n",
            "  \"warning.\" % arg, DiffprivlibCompatibilityWarning)\n",
            "c:\\Users\\15164\\Anaconda3\\anaconda3\\lib\\site-packages\\diffprivlib\\utils.py:88: DiffprivlibCompatibilityWarning: Parameter 'random_state' is not functional in diffprivlib.  Remove this parameter to suppress this warning.\n",
            "  \"warning.\" % arg, DiffprivlibCompatibilityWarning)\n",
            "c:\\Users\\15164\\Anaconda3\\anaconda3\\lib\\site-packages\\diffprivlib\\utils.py:88: DiffprivlibCompatibilityWarning: Parameter 'random_state' is not functional in diffprivlib.  Remove this parameter to suppress this warning.\n",
            "  \"warning.\" % arg, DiffprivlibCompatibilityWarning)\n",
            "c:\\Users\\15164\\Anaconda3\\anaconda3\\lib\\site-packages\\diffprivlib\\utils.py:88: DiffprivlibCompatibilityWarning: Parameter 'random_state' is not functional in diffprivlib.  Remove this parameter to suppress this warning.\n",
            "  \"warning.\" % arg, DiffprivlibCompatibilityWarning)\n",
            "c:\\Users\\15164\\Anaconda3\\anaconda3\\lib\\site-packages\\diffprivlib\\utils.py:88: DiffprivlibCompatibilityWarning: Parameter 'random_state' is not functional in diffprivlib.  Remove this parameter to suppress this warning.\n",
            "  \"warning.\" % arg, DiffprivlibCompatibilityWarning)\n",
            "c:\\Users\\15164\\Anaconda3\\anaconda3\\lib\\site-packages\\diffprivlib\\utils.py:88: DiffprivlibCompatibilityWarning: Parameter 'random_state' is not functional in diffprivlib.  Remove this parameter to suppress this warning.\n",
            "  \"warning.\" % arg, DiffprivlibCompatibilityWarning)\n",
            "c:\\Users\\15164\\Anaconda3\\anaconda3\\lib\\site-packages\\diffprivlib\\utils.py:88: DiffprivlibCompatibilityWarning: Parameter 'random_state' is not functional in diffprivlib.  Remove this parameter to suppress this warning.\n",
            "  \"warning.\" % arg, DiffprivlibCompatibilityWarning)\n",
            "c:\\Users\\15164\\Anaconda3\\anaconda3\\lib\\site-packages\\diffprivlib\\utils.py:88: DiffprivlibCompatibilityWarning: Parameter 'random_state' is not functional in diffprivlib.  Remove this parameter to suppress this warning.\n",
            "  \"warning.\" % arg, DiffprivlibCompatibilityWarning)\n",
            "c:\\Users\\15164\\Anaconda3\\anaconda3\\lib\\site-packages\\diffprivlib\\utils.py:88: DiffprivlibCompatibilityWarning: Parameter 'random_state' is not functional in diffprivlib.  Remove this parameter to suppress this warning.\n",
            "  \"warning.\" % arg, DiffprivlibCompatibilityWarning)\n",
            "c:\\Users\\15164\\Anaconda3\\anaconda3\\lib\\site-packages\\diffprivlib\\utils.py:88: DiffprivlibCompatibilityWarning: Parameter 'random_state' is not functional in diffprivlib.  Remove this parameter to suppress this warning.\n",
            "  \"warning.\" % arg, DiffprivlibCompatibilityWarning)\n",
            "c:\\Users\\15164\\Anaconda3\\anaconda3\\lib\\site-packages\\diffprivlib\\utils.py:88: DiffprivlibCompatibilityWarning: Parameter 'random_state' is not functional in diffprivlib.  Remove this parameter to suppress this warning.\n",
            "  \"warning.\" % arg, DiffprivlibCompatibilityWarning)\n",
            "c:\\Users\\15164\\Anaconda3\\anaconda3\\lib\\site-packages\\diffprivlib\\utils.py:88: DiffprivlibCompatibilityWarning: Parameter 'random_state' is not functional in diffprivlib.  Remove this parameter to suppress this warning.\n",
            "  \"warning.\" % arg, DiffprivlibCompatibilityWarning)\n",
            "c:\\Users\\15164\\Anaconda3\\anaconda3\\lib\\site-packages\\diffprivlib\\utils.py:88: DiffprivlibCompatibilityWarning: Parameter 'random_state' is not functional in diffprivlib.  Remove this parameter to suppress this warning.\n",
            "  \"warning.\" % arg, DiffprivlibCompatibilityWarning)\n",
            "c:\\Users\\15164\\Anaconda3\\anaconda3\\lib\\site-packages\\diffprivlib\\utils.py:88: DiffprivlibCompatibilityWarning: Parameter 'random_state' is not functional in diffprivlib.  Remove this parameter to suppress this warning.\n",
            "  \"warning.\" % arg, DiffprivlibCompatibilityWarning)\n",
            "c:\\Users\\15164\\Anaconda3\\anaconda3\\lib\\site-packages\\diffprivlib\\utils.py:88: DiffprivlibCompatibilityWarning: Parameter 'random_state' is not functional in diffprivlib.  Remove this parameter to suppress this warning.\n",
            "  \"warning.\" % arg, DiffprivlibCompatibilityWarning)\n",
            "c:\\Users\\15164\\Anaconda3\\anaconda3\\lib\\site-packages\\diffprivlib\\utils.py:88: DiffprivlibCompatibilityWarning: Parameter 'random_state' is not functional in diffprivlib.  Remove this parameter to suppress this warning.\n",
            "  \"warning.\" % arg, DiffprivlibCompatibilityWarning)\n",
            "c:\\Users\\15164\\Anaconda3\\anaconda3\\lib\\site-packages\\diffprivlib\\utils.py:88: DiffprivlibCompatibilityWarning: Parameter 'random_state' is not functional in diffprivlib.  Remove this parameter to suppress this warning.\n",
            "  \"warning.\" % arg, DiffprivlibCompatibilityWarning)\n",
            "c:\\Users\\15164\\Anaconda3\\anaconda3\\lib\\site-packages\\diffprivlib\\utils.py:88: DiffprivlibCompatibilityWarning: Parameter 'random_state' is not functional in diffprivlib.  Remove this parameter to suppress this warning.\n",
            "  \"warning.\" % arg, DiffprivlibCompatibilityWarning)\n",
            "c:\\Users\\15164\\Anaconda3\\anaconda3\\lib\\site-packages\\diffprivlib\\utils.py:88: DiffprivlibCompatibilityWarning: Parameter 'random_state' is not functional in diffprivlib.  Remove this parameter to suppress this warning.\n",
            "  \"warning.\" % arg, DiffprivlibCompatibilityWarning)\n",
            "c:\\Users\\15164\\Anaconda3\\anaconda3\\lib\\site-packages\\diffprivlib\\utils.py:88: DiffprivlibCompatibilityWarning: Parameter 'random_state' is not functional in diffprivlib.  Remove this parameter to suppress this warning.\n",
            "  \"warning.\" % arg, DiffprivlibCompatibilityWarning)\n",
            "c:\\Users\\15164\\Anaconda3\\anaconda3\\lib\\site-packages\\diffprivlib\\utils.py:88: DiffprivlibCompatibilityWarning: Parameter 'random_state' is not functional in diffprivlib.  Remove this parameter to suppress this warning.\n",
            "  \"warning.\" % arg, DiffprivlibCompatibilityWarning)\n",
            "c:\\Users\\15164\\Anaconda3\\anaconda3\\lib\\site-packages\\diffprivlib\\utils.py:88: DiffprivlibCompatibilityWarning: Parameter 'random_state' is not functional in diffprivlib.  Remove this parameter to suppress this warning.\n",
            "  \"warning.\" % arg, DiffprivlibCompatibilityWarning)\n",
            "c:\\Users\\15164\\Anaconda3\\anaconda3\\lib\\site-packages\\diffprivlib\\utils.py:88: DiffprivlibCompatibilityWarning: Parameter 'random_state' is not functional in diffprivlib.  Remove this parameter to suppress this warning.\n",
            "  \"warning.\" % arg, DiffprivlibCompatibilityWarning)\n",
            "c:\\Users\\15164\\Anaconda3\\anaconda3\\lib\\site-packages\\diffprivlib\\utils.py:88: DiffprivlibCompatibilityWarning: Parameter 'random_state' is not functional in diffprivlib.  Remove this parameter to suppress this warning.\n",
            "  \"warning.\" % arg, DiffprivlibCompatibilityWarning)\n",
            "c:\\Users\\15164\\Anaconda3\\anaconda3\\lib\\site-packages\\diffprivlib\\utils.py:88: DiffprivlibCompatibilityWarning: Parameter 'random_state' is not functional in diffprivlib.  Remove this parameter to suppress this warning.\n",
            "  \"warning.\" % arg, DiffprivlibCompatibilityWarning)\n",
            "c:\\Users\\15164\\Anaconda3\\anaconda3\\lib\\site-packages\\diffprivlib\\utils.py:88: DiffprivlibCompatibilityWarning: Parameter 'random_state' is not functional in diffprivlib.  Remove this parameter to suppress this warning.\n",
            "  \"warning.\" % arg, DiffprivlibCompatibilityWarning)\n",
            "c:\\Users\\15164\\Anaconda3\\anaconda3\\lib\\site-packages\\diffprivlib\\utils.py:88: DiffprivlibCompatibilityWarning: Parameter 'random_state' is not functional in diffprivlib.  Remove this parameter to suppress this warning.\n",
            "  \"warning.\" % arg, DiffprivlibCompatibilityWarning)\n",
            "c:\\Users\\15164\\Anaconda3\\anaconda3\\lib\\site-packages\\diffprivlib\\utils.py:88: DiffprivlibCompatibilityWarning: Parameter 'random_state' is not functional in diffprivlib.  Remove this parameter to suppress this warning.\n",
            "  \"warning.\" % arg, DiffprivlibCompatibilityWarning)\n",
            "c:\\Users\\15164\\Anaconda3\\anaconda3\\lib\\site-packages\\diffprivlib\\utils.py:88: DiffprivlibCompatibilityWarning: Parameter 'random_state' is not functional in diffprivlib.  Remove this parameter to suppress this warning.\n",
            "  \"warning.\" % arg, DiffprivlibCompatibilityWarning)\n",
            "c:\\Users\\15164\\Anaconda3\\anaconda3\\lib\\site-packages\\diffprivlib\\utils.py:88: DiffprivlibCompatibilityWarning: Parameter 'random_state' is not functional in diffprivlib.  Remove this parameter to suppress this warning.\n",
            "  \"warning.\" % arg, DiffprivlibCompatibilityWarning)\n",
            "c:\\Users\\15164\\Anaconda3\\anaconda3\\lib\\site-packages\\diffprivlib\\utils.py:88: DiffprivlibCompatibilityWarning: Parameter 'random_state' is not functional in diffprivlib.  Remove this parameter to suppress this warning.\n",
            "  \"warning.\" % arg, DiffprivlibCompatibilityWarning)\n",
            "c:\\Users\\15164\\Anaconda3\\anaconda3\\lib\\site-packages\\diffprivlib\\utils.py:88: DiffprivlibCompatibilityWarning: Parameter 'random_state' is not functional in diffprivlib.  Remove this parameter to suppress this warning.\n",
            "  \"warning.\" % arg, DiffprivlibCompatibilityWarning)\n",
            "c:\\Users\\15164\\Anaconda3\\anaconda3\\lib\\site-packages\\diffprivlib\\utils.py:88: DiffprivlibCompatibilityWarning: Parameter 'random_state' is not functional in diffprivlib.  Remove this parameter to suppress this warning.\n",
            "  \"warning.\" % arg, DiffprivlibCompatibilityWarning)\n",
            "c:\\Users\\15164\\Anaconda3\\anaconda3\\lib\\site-packages\\diffprivlib\\utils.py:88: DiffprivlibCompatibilityWarning: Parameter 'random_state' is not functional in diffprivlib.  Remove this parameter to suppress this warning.\n",
            "  \"warning.\" % arg, DiffprivlibCompatibilityWarning)\n",
            "c:\\Users\\15164\\Anaconda3\\anaconda3\\lib\\site-packages\\diffprivlib\\utils.py:88: DiffprivlibCompatibilityWarning: Parameter 'random_state' is not functional in diffprivlib.  Remove this parameter to suppress this warning.\n",
            "  \"warning.\" % arg, DiffprivlibCompatibilityWarning)\n",
            "c:\\Users\\15164\\Anaconda3\\anaconda3\\lib\\site-packages\\diffprivlib\\utils.py:88: DiffprivlibCompatibilityWarning: Parameter 'random_state' is not functional in diffprivlib.  Remove this parameter to suppress this warning.\n",
            "  \"warning.\" % arg, DiffprivlibCompatibilityWarning)\n",
            "c:\\Users\\15164\\Anaconda3\\anaconda3\\lib\\site-packages\\diffprivlib\\utils.py:88: DiffprivlibCompatibilityWarning: Parameter 'random_state' is not functional in diffprivlib.  Remove this parameter to suppress this warning.\n",
            "  \"warning.\" % arg, DiffprivlibCompatibilityWarning)\n",
            "c:\\Users\\15164\\Anaconda3\\anaconda3\\lib\\site-packages\\diffprivlib\\utils.py:88: DiffprivlibCompatibilityWarning: Parameter 'random_state' is not functional in diffprivlib.  Remove this parameter to suppress this warning.\n",
            "  \"warning.\" % arg, DiffprivlibCompatibilityWarning)\n",
            "c:\\Users\\15164\\Anaconda3\\anaconda3\\lib\\site-packages\\diffprivlib\\utils.py:88: DiffprivlibCompatibilityWarning: Parameter 'random_state' is not functional in diffprivlib.  Remove this parameter to suppress this warning.\n",
            "  \"warning.\" % arg, DiffprivlibCompatibilityWarning)\n",
            "c:\\Users\\15164\\Anaconda3\\anaconda3\\lib\\site-packages\\diffprivlib\\utils.py:88: DiffprivlibCompatibilityWarning: Parameter 'random_state' is not functional in diffprivlib.  Remove this parameter to suppress this warning.\n",
            "  \"warning.\" % arg, DiffprivlibCompatibilityWarning)\n",
            "c:\\Users\\15164\\Anaconda3\\anaconda3\\lib\\site-packages\\diffprivlib\\utils.py:88: DiffprivlibCompatibilityWarning: Parameter 'random_state' is not functional in diffprivlib.  Remove this parameter to suppress this warning.\n",
            "  \"warning.\" % arg, DiffprivlibCompatibilityWarning)\n",
            "c:\\Users\\15164\\Anaconda3\\anaconda3\\lib\\site-packages\\diffprivlib\\utils.py:88: DiffprivlibCompatibilityWarning: Parameter 'random_state' is not functional in diffprivlib.  Remove this parameter to suppress this warning.\n",
            "  \"warning.\" % arg, DiffprivlibCompatibilityWarning)\n",
            "c:\\Users\\15164\\Anaconda3\\anaconda3\\lib\\site-packages\\diffprivlib\\utils.py:88: DiffprivlibCompatibilityWarning: Parameter 'random_state' is not functional in diffprivlib.  Remove this parameter to suppress this warning.\n",
            "  \"warning.\" % arg, DiffprivlibCompatibilityWarning)\n",
            "c:\\Users\\15164\\Anaconda3\\anaconda3\\lib\\site-packages\\diffprivlib\\utils.py:88: DiffprivlibCompatibilityWarning: Parameter 'random_state' is not functional in diffprivlib.  Remove this parameter to suppress this warning.\n",
            "  \"warning.\" % arg, DiffprivlibCompatibilityWarning)\n",
            "c:\\Users\\15164\\Anaconda3\\anaconda3\\lib\\site-packages\\diffprivlib\\utils.py:88: DiffprivlibCompatibilityWarning: Parameter 'random_state' is not functional in diffprivlib.  Remove this parameter to suppress this warning.\n",
            "  \"warning.\" % arg, DiffprivlibCompatibilityWarning)\n",
            "c:\\Users\\15164\\Anaconda3\\anaconda3\\lib\\site-packages\\diffprivlib\\utils.py:88: DiffprivlibCompatibilityWarning: Parameter 'random_state' is not functional in diffprivlib.  Remove this parameter to suppress this warning.\n",
            "  \"warning.\" % arg, DiffprivlibCompatibilityWarning)\n",
            "c:\\Users\\15164\\Anaconda3\\anaconda3\\lib\\site-packages\\diffprivlib\\utils.py:88: DiffprivlibCompatibilityWarning: Parameter 'random_state' is not functional in diffprivlib.  Remove this parameter to suppress this warning.\n",
            "  \"warning.\" % arg, DiffprivlibCompatibilityWarning)\n",
            "c:\\Users\\15164\\Anaconda3\\anaconda3\\lib\\site-packages\\diffprivlib\\utils.py:88: DiffprivlibCompatibilityWarning: Parameter 'random_state' is not functional in diffprivlib.  Remove this parameter to suppress this warning.\n",
            "  \"warning.\" % arg, DiffprivlibCompatibilityWarning)\n",
            "c:\\Users\\15164\\Anaconda3\\anaconda3\\lib\\site-packages\\diffprivlib\\utils.py:88: DiffprivlibCompatibilityWarning: Parameter 'random_state' is not functional in diffprivlib.  Remove this parameter to suppress this warning.\n",
            "  \"warning.\" % arg, DiffprivlibCompatibilityWarning)\n",
            "c:\\Users\\15164\\Anaconda3\\anaconda3\\lib\\site-packages\\diffprivlib\\utils.py:88: DiffprivlibCompatibilityWarning: Parameter 'random_state' is not functional in diffprivlib.  Remove this parameter to suppress this warning.\n",
            "  \"warning.\" % arg, DiffprivlibCompatibilityWarning)\n",
            "c:\\Users\\15164\\Anaconda3\\anaconda3\\lib\\site-packages\\diffprivlib\\utils.py:88: DiffprivlibCompatibilityWarning: Parameter 'random_state' is not functional in diffprivlib.  Remove this parameter to suppress this warning.\n",
            "  \"warning.\" % arg, DiffprivlibCompatibilityWarning)\n",
            "c:\\Users\\15164\\Anaconda3\\anaconda3\\lib\\site-packages\\diffprivlib\\utils.py:88: DiffprivlibCompatibilityWarning: Parameter 'random_state' is not functional in diffprivlib.  Remove this parameter to suppress this warning.\n",
            "  \"warning.\" % arg, DiffprivlibCompatibilityWarning)\n",
            "c:\\Users\\15164\\Anaconda3\\anaconda3\\lib\\site-packages\\diffprivlib\\utils.py:88: DiffprivlibCompatibilityWarning: Parameter 'random_state' is not functional in diffprivlib.  Remove this parameter to suppress this warning.\n",
            "  \"warning.\" % arg, DiffprivlibCompatibilityWarning)\n",
            "c:\\Users\\15164\\Anaconda3\\anaconda3\\lib\\site-packages\\diffprivlib\\utils.py:88: DiffprivlibCompatibilityWarning: Parameter 'random_state' is not functional in diffprivlib.  Remove this parameter to suppress this warning.\n",
            "  \"warning.\" % arg, DiffprivlibCompatibilityWarning)\n",
            "c:\\Users\\15164\\Anaconda3\\anaconda3\\lib\\site-packages\\diffprivlib\\utils.py:88: DiffprivlibCompatibilityWarning: Parameter 'random_state' is not functional in diffprivlib.  Remove this parameter to suppress this warning.\n",
            "  \"warning.\" % arg, DiffprivlibCompatibilityWarning)\n",
            "c:\\Users\\15164\\Anaconda3\\anaconda3\\lib\\site-packages\\diffprivlib\\utils.py:88: DiffprivlibCompatibilityWarning: Parameter 'random_state' is not functional in diffprivlib.  Remove this parameter to suppress this warning.\n",
            "  \"warning.\" % arg, DiffprivlibCompatibilityWarning)\n",
            "c:\\Users\\15164\\Anaconda3\\anaconda3\\lib\\site-packages\\diffprivlib\\utils.py:88: DiffprivlibCompatibilityWarning: Parameter 'random_state' is not functional in diffprivlib.  Remove this parameter to suppress this warning.\n",
            "  \"warning.\" % arg, DiffprivlibCompatibilityWarning)\n",
            "c:\\Users\\15164\\Anaconda3\\anaconda3\\lib\\site-packages\\diffprivlib\\utils.py:88: DiffprivlibCompatibilityWarning: Parameter 'random_state' is not functional in diffprivlib.  Remove this parameter to suppress this warning.\n",
            "  \"warning.\" % arg, DiffprivlibCompatibilityWarning)\n",
            "c:\\Users\\15164\\Anaconda3\\anaconda3\\lib\\site-packages\\diffprivlib\\utils.py:88: DiffprivlibCompatibilityWarning: Parameter 'random_state' is not functional in diffprivlib.  Remove this parameter to suppress this warning.\n",
            "  \"warning.\" % arg, DiffprivlibCompatibilityWarning)\n",
            "c:\\Users\\15164\\Anaconda3\\anaconda3\\lib\\site-packages\\diffprivlib\\utils.py:88: DiffprivlibCompatibilityWarning: Parameter 'random_state' is not functional in diffprivlib.  Remove this parameter to suppress this warning.\n",
            "  \"warning.\" % arg, DiffprivlibCompatibilityWarning)\n",
            "c:\\Users\\15164\\Anaconda3\\anaconda3\\lib\\site-packages\\diffprivlib\\utils.py:88: DiffprivlibCompatibilityWarning: Parameter 'random_state' is not functional in diffprivlib.  Remove this parameter to suppress this warning.\n",
            "  \"warning.\" % arg, DiffprivlibCompatibilityWarning)\n",
            "c:\\Users\\15164\\Anaconda3\\anaconda3\\lib\\site-packages\\diffprivlib\\utils.py:88: DiffprivlibCompatibilityWarning: Parameter 'random_state' is not functional in diffprivlib.  Remove this parameter to suppress this warning.\n",
            "  \"warning.\" % arg, DiffprivlibCompatibilityWarning)\n",
            "c:\\Users\\15164\\Anaconda3\\anaconda3\\lib\\site-packages\\diffprivlib\\utils.py:88: DiffprivlibCompatibilityWarning: Parameter 'random_state' is not functional in diffprivlib.  Remove this parameter to suppress this warning.\n",
            "  \"warning.\" % arg, DiffprivlibCompatibilityWarning)\n",
            "c:\\Users\\15164\\Anaconda3\\anaconda3\\lib\\site-packages\\diffprivlib\\utils.py:88: DiffprivlibCompatibilityWarning: Parameter 'random_state' is not functional in diffprivlib.  Remove this parameter to suppress this warning.\n",
            "  \"warning.\" % arg, DiffprivlibCompatibilityWarning)\n",
            "c:\\Users\\15164\\Anaconda3\\anaconda3\\lib\\site-packages\\diffprivlib\\utils.py:88: DiffprivlibCompatibilityWarning: Parameter 'random_state' is not functional in diffprivlib.  Remove this parameter to suppress this warning.\n",
            "  \"warning.\" % arg, DiffprivlibCompatibilityWarning)\n",
            "c:\\Users\\15164\\Anaconda3\\anaconda3\\lib\\site-packages\\diffprivlib\\utils.py:88: DiffprivlibCompatibilityWarning: Parameter 'random_state' is not functional in diffprivlib.  Remove this parameter to suppress this warning.\n",
            "  \"warning.\" % arg, DiffprivlibCompatibilityWarning)\n",
            "c:\\Users\\15164\\Anaconda3\\anaconda3\\lib\\site-packages\\diffprivlib\\utils.py:88: DiffprivlibCompatibilityWarning: Parameter 'random_state' is not functional in diffprivlib.  Remove this parameter to suppress this warning.\n",
            "  \"warning.\" % arg, DiffprivlibCompatibilityWarning)\n",
            "c:\\Users\\15164\\Anaconda3\\anaconda3\\lib\\site-packages\\diffprivlib\\utils.py:88: DiffprivlibCompatibilityWarning: Parameter 'random_state' is not functional in diffprivlib.  Remove this parameter to suppress this warning.\n",
            "  \"warning.\" % arg, DiffprivlibCompatibilityWarning)\n",
            "c:\\Users\\15164\\Anaconda3\\anaconda3\\lib\\site-packages\\diffprivlib\\utils.py:88: DiffprivlibCompatibilityWarning: Parameter 'random_state' is not functional in diffprivlib.  Remove this parameter to suppress this warning.\n",
            "  \"warning.\" % arg, DiffprivlibCompatibilityWarning)\n",
            "c:\\Users\\15164\\Anaconda3\\anaconda3\\lib\\site-packages\\diffprivlib\\utils.py:88: DiffprivlibCompatibilityWarning: Parameter 'random_state' is not functional in diffprivlib.  Remove this parameter to suppress this warning.\n",
            "  \"warning.\" % arg, DiffprivlibCompatibilityWarning)\n",
            "c:\\Users\\15164\\Anaconda3\\anaconda3\\lib\\site-packages\\diffprivlib\\utils.py:88: DiffprivlibCompatibilityWarning: Parameter 'random_state' is not functional in diffprivlib.  Remove this parameter to suppress this warning.\n",
            "  \"warning.\" % arg, DiffprivlibCompatibilityWarning)\n",
            "c:\\Users\\15164\\Anaconda3\\anaconda3\\lib\\site-packages\\diffprivlib\\utils.py:88: DiffprivlibCompatibilityWarning: Parameter 'random_state' is not functional in diffprivlib.  Remove this parameter to suppress this warning.\n",
            "  \"warning.\" % arg, DiffprivlibCompatibilityWarning)\n",
            "c:\\Users\\15164\\Anaconda3\\anaconda3\\lib\\site-packages\\diffprivlib\\utils.py:88: DiffprivlibCompatibilityWarning: Parameter 'random_state' is not functional in diffprivlib.  Remove this parameter to suppress this warning.\n",
            "  \"warning.\" % arg, DiffprivlibCompatibilityWarning)\n",
            "c:\\Users\\15164\\Anaconda3\\anaconda3\\lib\\site-packages\\diffprivlib\\utils.py:88: DiffprivlibCompatibilityWarning: Parameter 'random_state' is not functional in diffprivlib.  Remove this parameter to suppress this warning.\n",
            "  \"warning.\" % arg, DiffprivlibCompatibilityWarning)\n",
            "c:\\Users\\15164\\Anaconda3\\anaconda3\\lib\\site-packages\\diffprivlib\\utils.py:88: DiffprivlibCompatibilityWarning: Parameter 'random_state' is not functional in diffprivlib.  Remove this parameter to suppress this warning.\n",
            "  \"warning.\" % arg, DiffprivlibCompatibilityWarning)\n",
            "c:\\Users\\15164\\Anaconda3\\anaconda3\\lib\\site-packages\\diffprivlib\\utils.py:88: DiffprivlibCompatibilityWarning: Parameter 'random_state' is not functional in diffprivlib.  Remove this parameter to suppress this warning.\n",
            "  \"warning.\" % arg, DiffprivlibCompatibilityWarning)\n",
            "c:\\Users\\15164\\Anaconda3\\anaconda3\\lib\\site-packages\\diffprivlib\\utils.py:88: DiffprivlibCompatibilityWarning: Parameter 'random_state' is not functional in diffprivlib.  Remove this parameter to suppress this warning.\n",
            "  \"warning.\" % arg, DiffprivlibCompatibilityWarning)\n",
            "c:\\Users\\15164\\Anaconda3\\anaconda3\\lib\\site-packages\\diffprivlib\\utils.py:88: DiffprivlibCompatibilityWarning: Parameter 'random_state' is not functional in diffprivlib.  Remove this parameter to suppress this warning.\n",
            "  \"warning.\" % arg, DiffprivlibCompatibilityWarning)\n",
            "c:\\Users\\15164\\Anaconda3\\anaconda3\\lib\\site-packages\\diffprivlib\\utils.py:88: DiffprivlibCompatibilityWarning: Parameter 'random_state' is not functional in diffprivlib.  Remove this parameter to suppress this warning.\n",
            "  \"warning.\" % arg, DiffprivlibCompatibilityWarning)\n",
            "c:\\Users\\15164\\Anaconda3\\anaconda3\\lib\\site-packages\\diffprivlib\\utils.py:88: DiffprivlibCompatibilityWarning: Parameter 'random_state' is not functional in diffprivlib.  Remove this parameter to suppress this warning.\n",
            "  \"warning.\" % arg, DiffprivlibCompatibilityWarning)\n",
            "c:\\Users\\15164\\Anaconda3\\anaconda3\\lib\\site-packages\\diffprivlib\\utils.py:88: DiffprivlibCompatibilityWarning: Parameter 'random_state' is not functional in diffprivlib.  Remove this parameter to suppress this warning.\n",
            "  \"warning.\" % arg, DiffprivlibCompatibilityWarning)\n",
            "c:\\Users\\15164\\Anaconda3\\anaconda3\\lib\\site-packages\\diffprivlib\\utils.py:88: DiffprivlibCompatibilityWarning: Parameter 'random_state' is not functional in diffprivlib.  Remove this parameter to suppress this warning.\n",
            "  \"warning.\" % arg, DiffprivlibCompatibilityWarning)\n",
            "c:\\Users\\15164\\Anaconda3\\anaconda3\\lib\\site-packages\\diffprivlib\\utils.py:88: DiffprivlibCompatibilityWarning: Parameter 'random_state' is not functional in diffprivlib.  Remove this parameter to suppress this warning.\n",
            "  \"warning.\" % arg, DiffprivlibCompatibilityWarning)\n",
            "c:\\Users\\15164\\Anaconda3\\anaconda3\\lib\\site-packages\\diffprivlib\\utils.py:88: DiffprivlibCompatibilityWarning: Parameter 'random_state' is not functional in diffprivlib.  Remove this parameter to suppress this warning.\n",
            "  \"warning.\" % arg, DiffprivlibCompatibilityWarning)\n",
            "c:\\Users\\15164\\Anaconda3\\anaconda3\\lib\\site-packages\\diffprivlib\\utils.py:88: DiffprivlibCompatibilityWarning: Parameter 'random_state' is not functional in diffprivlib.  Remove this parameter to suppress this warning.\n",
            "  \"warning.\" % arg, DiffprivlibCompatibilityWarning)\n",
            "c:\\Users\\15164\\Anaconda3\\anaconda3\\lib\\site-packages\\diffprivlib\\utils.py:88: DiffprivlibCompatibilityWarning: Parameter 'random_state' is not functional in diffprivlib.  Remove this parameter to suppress this warning.\n",
            "  \"warning.\" % arg, DiffprivlibCompatibilityWarning)\n",
            "c:\\Users\\15164\\Anaconda3\\anaconda3\\lib\\site-packages\\diffprivlib\\utils.py:88: DiffprivlibCompatibilityWarning: Parameter 'random_state' is not functional in diffprivlib.  Remove this parameter to suppress this warning.\n",
            "  \"warning.\" % arg, DiffprivlibCompatibilityWarning)\n",
            "c:\\Users\\15164\\Anaconda3\\anaconda3\\lib\\site-packages\\diffprivlib\\utils.py:88: DiffprivlibCompatibilityWarning: Parameter 'random_state' is not functional in diffprivlib.  Remove this parameter to suppress this warning.\n",
            "  \"warning.\" % arg, DiffprivlibCompatibilityWarning)\n",
            "c:\\Users\\15164\\Anaconda3\\anaconda3\\lib\\site-packages\\diffprivlib\\utils.py:88: DiffprivlibCompatibilityWarning: Parameter 'random_state' is not functional in diffprivlib.  Remove this parameter to suppress this warning.\n",
            "  \"warning.\" % arg, DiffprivlibCompatibilityWarning)\n",
            "c:\\Users\\15164\\Anaconda3\\anaconda3\\lib\\site-packages\\diffprivlib\\utils.py:88: DiffprivlibCompatibilityWarning: Parameter 'random_state' is not functional in diffprivlib.  Remove this parameter to suppress this warning.\n",
            "  \"warning.\" % arg, DiffprivlibCompatibilityWarning)\n",
            "c:\\Users\\15164\\Anaconda3\\anaconda3\\lib\\site-packages\\diffprivlib\\utils.py:88: DiffprivlibCompatibilityWarning: Parameter 'random_state' is not functional in diffprivlib.  Remove this parameter to suppress this warning.\n",
            "  \"warning.\" % arg, DiffprivlibCompatibilityWarning)\n",
            "c:\\Users\\15164\\Anaconda3\\anaconda3\\lib\\site-packages\\diffprivlib\\utils.py:88: DiffprivlibCompatibilityWarning: Parameter 'random_state' is not functional in diffprivlib.  Remove this parameter to suppress this warning.\n",
            "  \"warning.\" % arg, DiffprivlibCompatibilityWarning)\n",
            "c:\\Users\\15164\\Anaconda3\\anaconda3\\lib\\site-packages\\diffprivlib\\utils.py:88: DiffprivlibCompatibilityWarning: Parameter 'random_state' is not functional in diffprivlib.  Remove this parameter to suppress this warning.\n",
            "  \"warning.\" % arg, DiffprivlibCompatibilityWarning)\n",
            "c:\\Users\\15164\\Anaconda3\\anaconda3\\lib\\site-packages\\diffprivlib\\utils.py:88: DiffprivlibCompatibilityWarning: Parameter 'random_state' is not functional in diffprivlib.  Remove this parameter to suppress this warning.\n",
            "  \"warning.\" % arg, DiffprivlibCompatibilityWarning)\n",
            "c:\\Users\\15164\\Anaconda3\\anaconda3\\lib\\site-packages\\diffprivlib\\utils.py:88: DiffprivlibCompatibilityWarning: Parameter 'random_state' is not functional in diffprivlib.  Remove this parameter to suppress this warning.\n",
            "  \"warning.\" % arg, DiffprivlibCompatibilityWarning)\n",
            "c:\\Users\\15164\\Anaconda3\\anaconda3\\lib\\site-packages\\diffprivlib\\utils.py:88: DiffprivlibCompatibilityWarning: Parameter 'random_state' is not functional in diffprivlib.  Remove this parameter to suppress this warning.\n",
            "  \"warning.\" % arg, DiffprivlibCompatibilityWarning)\n",
            "c:\\Users\\15164\\Anaconda3\\anaconda3\\lib\\site-packages\\diffprivlib\\utils.py:88: DiffprivlibCompatibilityWarning: Parameter 'random_state' is not functional in diffprivlib.  Remove this parameter to suppress this warning.\n",
            "  \"warning.\" % arg, DiffprivlibCompatibilityWarning)\n",
            "c:\\Users\\15164\\Anaconda3\\anaconda3\\lib\\site-packages\\diffprivlib\\utils.py:88: DiffprivlibCompatibilityWarning: Parameter 'random_state' is not functional in diffprivlib.  Remove this parameter to suppress this warning.\n",
            "  \"warning.\" % arg, DiffprivlibCompatibilityWarning)\n",
            "c:\\Users\\15164\\Anaconda3\\anaconda3\\lib\\site-packages\\diffprivlib\\utils.py:88: DiffprivlibCompatibilityWarning: Parameter 'random_state' is not functional in diffprivlib.  Remove this parameter to suppress this warning.\n",
            "  \"warning.\" % arg, DiffprivlibCompatibilityWarning)\n",
            "c:\\Users\\15164\\Anaconda3\\anaconda3\\lib\\site-packages\\diffprivlib\\utils.py:88: DiffprivlibCompatibilityWarning: Parameter 'random_state' is not functional in diffprivlib.  Remove this parameter to suppress this warning.\n",
            "  \"warning.\" % arg, DiffprivlibCompatibilityWarning)\n",
            "c:\\Users\\15164\\Anaconda3\\anaconda3\\lib\\site-packages\\diffprivlib\\utils.py:88: DiffprivlibCompatibilityWarning: Parameter 'random_state' is not functional in diffprivlib.  Remove this parameter to suppress this warning.\n",
            "  \"warning.\" % arg, DiffprivlibCompatibilityWarning)\n",
            "c:\\Users\\15164\\Anaconda3\\anaconda3\\lib\\site-packages\\diffprivlib\\utils.py:88: DiffprivlibCompatibilityWarning: Parameter 'random_state' is not functional in diffprivlib.  Remove this parameter to suppress this warning.\n",
            "  \"warning.\" % arg, DiffprivlibCompatibilityWarning)\n",
            "c:\\Users\\15164\\Anaconda3\\anaconda3\\lib\\site-packages\\diffprivlib\\utils.py:88: DiffprivlibCompatibilityWarning: Parameter 'random_state' is not functional in diffprivlib.  Remove this parameter to suppress this warning.\n",
            "  \"warning.\" % arg, DiffprivlibCompatibilityWarning)\n",
            "c:\\Users\\15164\\Anaconda3\\anaconda3\\lib\\site-packages\\diffprivlib\\utils.py:88: DiffprivlibCompatibilityWarning: Parameter 'random_state' is not functional in diffprivlib.  Remove this parameter to suppress this warning.\n",
            "  \"warning.\" % arg, DiffprivlibCompatibilityWarning)\n",
            "c:\\Users\\15164\\Anaconda3\\anaconda3\\lib\\site-packages\\diffprivlib\\utils.py:88: DiffprivlibCompatibilityWarning: Parameter 'random_state' is not functional in diffprivlib.  Remove this parameter to suppress this warning.\n",
            "  \"warning.\" % arg, DiffprivlibCompatibilityWarning)\n",
            "c:\\Users\\15164\\Anaconda3\\anaconda3\\lib\\site-packages\\diffprivlib\\utils.py:88: DiffprivlibCompatibilityWarning: Parameter 'random_state' is not functional in diffprivlib.  Remove this parameter to suppress this warning.\n",
            "  \"warning.\" % arg, DiffprivlibCompatibilityWarning)\n",
            "c:\\Users\\15164\\Anaconda3\\anaconda3\\lib\\site-packages\\diffprivlib\\utils.py:88: DiffprivlibCompatibilityWarning: Parameter 'random_state' is not functional in diffprivlib.  Remove this parameter to suppress this warning.\n",
            "  \"warning.\" % arg, DiffprivlibCompatibilityWarning)\n",
            "c:\\Users\\15164\\Anaconda3\\anaconda3\\lib\\site-packages\\diffprivlib\\utils.py:88: DiffprivlibCompatibilityWarning: Parameter 'random_state' is not functional in diffprivlib.  Remove this parameter to suppress this warning.\n",
            "  \"warning.\" % arg, DiffprivlibCompatibilityWarning)\n",
            "c:\\Users\\15164\\Anaconda3\\anaconda3\\lib\\site-packages\\diffprivlib\\utils.py:88: DiffprivlibCompatibilityWarning: Parameter 'random_state' is not functional in diffprivlib.  Remove this parameter to suppress this warning.\n",
            "  \"warning.\" % arg, DiffprivlibCompatibilityWarning)\n",
            "c:\\Users\\15164\\Anaconda3\\anaconda3\\lib\\site-packages\\diffprivlib\\utils.py:88: DiffprivlibCompatibilityWarning: Parameter 'random_state' is not functional in diffprivlib.  Remove this parameter to suppress this warning.\n",
            "  \"warning.\" % arg, DiffprivlibCompatibilityWarning)\n",
            "c:\\Users\\15164\\Anaconda3\\anaconda3\\lib\\site-packages\\diffprivlib\\utils.py:88: DiffprivlibCompatibilityWarning: Parameter 'random_state' is not functional in diffprivlib.  Remove this parameter to suppress this warning.\n",
            "  \"warning.\" % arg, DiffprivlibCompatibilityWarning)\n",
            "c:\\Users\\15164\\Anaconda3\\anaconda3\\lib\\site-packages\\diffprivlib\\utils.py:88: DiffprivlibCompatibilityWarning: Parameter 'random_state' is not functional in diffprivlib.  Remove this parameter to suppress this warning.\n",
            "  \"warning.\" % arg, DiffprivlibCompatibilityWarning)\n",
            "c:\\Users\\15164\\Anaconda3\\anaconda3\\lib\\site-packages\\diffprivlib\\utils.py:88: DiffprivlibCompatibilityWarning: Parameter 'random_state' is not functional in diffprivlib.  Remove this parameter to suppress this warning.\n",
            "  \"warning.\" % arg, DiffprivlibCompatibilityWarning)\n",
            "c:\\Users\\15164\\Anaconda3\\anaconda3\\lib\\site-packages\\diffprivlib\\utils.py:88: DiffprivlibCompatibilityWarning: Parameter 'random_state' is not functional in diffprivlib.  Remove this parameter to suppress this warning.\n",
            "  \"warning.\" % arg, DiffprivlibCompatibilityWarning)\n",
            "c:\\Users\\15164\\Anaconda3\\anaconda3\\lib\\site-packages\\diffprivlib\\utils.py:88: DiffprivlibCompatibilityWarning: Parameter 'random_state' is not functional in diffprivlib.  Remove this parameter to suppress this warning.\n",
            "  \"warning.\" % arg, DiffprivlibCompatibilityWarning)\n",
            "c:\\Users\\15164\\Anaconda3\\anaconda3\\lib\\site-packages\\diffprivlib\\utils.py:88: DiffprivlibCompatibilityWarning: Parameter 'random_state' is not functional in diffprivlib.  Remove this parameter to suppress this warning.\n",
            "  \"warning.\" % arg, DiffprivlibCompatibilityWarning)\n",
            "c:\\Users\\15164\\Anaconda3\\anaconda3\\lib\\site-packages\\diffprivlib\\utils.py:88: DiffprivlibCompatibilityWarning: Parameter 'random_state' is not functional in diffprivlib.  Remove this parameter to suppress this warning.\n",
            "  \"warning.\" % arg, DiffprivlibCompatibilityWarning)\n",
            "c:\\Users\\15164\\Anaconda3\\anaconda3\\lib\\site-packages\\diffprivlib\\utils.py:88: DiffprivlibCompatibilityWarning: Parameter 'random_state' is not functional in diffprivlib.  Remove this parameter to suppress this warning.\n",
            "  \"warning.\" % arg, DiffprivlibCompatibilityWarning)\n",
            "c:\\Users\\15164\\Anaconda3\\anaconda3\\lib\\site-packages\\diffprivlib\\utils.py:88: DiffprivlibCompatibilityWarning: Parameter 'random_state' is not functional in diffprivlib.  Remove this parameter to suppress this warning.\n",
            "  \"warning.\" % arg, DiffprivlibCompatibilityWarning)\n",
            "c:\\Users\\15164\\Anaconda3\\anaconda3\\lib\\site-packages\\diffprivlib\\utils.py:88: DiffprivlibCompatibilityWarning: Parameter 'random_state' is not functional in diffprivlib.  Remove this parameter to suppress this warning.\n",
            "  \"warning.\" % arg, DiffprivlibCompatibilityWarning)\n",
            "c:\\Users\\15164\\Anaconda3\\anaconda3\\lib\\site-packages\\diffprivlib\\utils.py:88: DiffprivlibCompatibilityWarning: Parameter 'random_state' is not functional in diffprivlib.  Remove this parameter to suppress this warning.\n",
            "  \"warning.\" % arg, DiffprivlibCompatibilityWarning)\n",
            "c:\\Users\\15164\\Anaconda3\\anaconda3\\lib\\site-packages\\diffprivlib\\utils.py:88: DiffprivlibCompatibilityWarning: Parameter 'random_state' is not functional in diffprivlib.  Remove this parameter to suppress this warning.\n",
            "  \"warning.\" % arg, DiffprivlibCompatibilityWarning)\n",
            "c:\\Users\\15164\\Anaconda3\\anaconda3\\lib\\site-packages\\diffprivlib\\utils.py:88: DiffprivlibCompatibilityWarning: Parameter 'random_state' is not functional in diffprivlib.  Remove this parameter to suppress this warning.\n",
            "  \"warning.\" % arg, DiffprivlibCompatibilityWarning)\n",
            "c:\\Users\\15164\\Anaconda3\\anaconda3\\lib\\site-packages\\diffprivlib\\utils.py:88: DiffprivlibCompatibilityWarning: Parameter 'random_state' is not functional in diffprivlib.  Remove this parameter to suppress this warning.\n",
            "  \"warning.\" % arg, DiffprivlibCompatibilityWarning)\n",
            "c:\\Users\\15164\\Anaconda3\\anaconda3\\lib\\site-packages\\diffprivlib\\utils.py:88: DiffprivlibCompatibilityWarning: Parameter 'random_state' is not functional in diffprivlib.  Remove this parameter to suppress this warning.\n",
            "  \"warning.\" % arg, DiffprivlibCompatibilityWarning)\n",
            "c:\\Users\\15164\\Anaconda3\\anaconda3\\lib\\site-packages\\diffprivlib\\utils.py:88: DiffprivlibCompatibilityWarning: Parameter 'random_state' is not functional in diffprivlib.  Remove this parameter to suppress this warning.\n",
            "  \"warning.\" % arg, DiffprivlibCompatibilityWarning)\n",
            "c:\\Users\\15164\\Anaconda3\\anaconda3\\lib\\site-packages\\diffprivlib\\utils.py:88: DiffprivlibCompatibilityWarning: Parameter 'random_state' is not functional in diffprivlib.  Remove this parameter to suppress this warning.\n",
            "  \"warning.\" % arg, DiffprivlibCompatibilityWarning)\n",
            "c:\\Users\\15164\\Anaconda3\\anaconda3\\lib\\site-packages\\diffprivlib\\utils.py:88: DiffprivlibCompatibilityWarning: Parameter 'random_state' is not functional in diffprivlib.  Remove this parameter to suppress this warning.\n",
            "  \"warning.\" % arg, DiffprivlibCompatibilityWarning)\n",
            "c:\\Users\\15164\\Anaconda3\\anaconda3\\lib\\site-packages\\diffprivlib\\utils.py:88: DiffprivlibCompatibilityWarning: Parameter 'random_state' is not functional in diffprivlib.  Remove this parameter to suppress this warning.\n",
            "  \"warning.\" % arg, DiffprivlibCompatibilityWarning)\n",
            "c:\\Users\\15164\\Anaconda3\\anaconda3\\lib\\site-packages\\diffprivlib\\utils.py:88: DiffprivlibCompatibilityWarning: Parameter 'random_state' is not functional in diffprivlib.  Remove this parameter to suppress this warning.\n",
            "  \"warning.\" % arg, DiffprivlibCompatibilityWarning)\n",
            "c:\\Users\\15164\\Anaconda3\\anaconda3\\lib\\site-packages\\diffprivlib\\utils.py:88: DiffprivlibCompatibilityWarning: Parameter 'random_state' is not functional in diffprivlib.  Remove this parameter to suppress this warning.\n",
            "  \"warning.\" % arg, DiffprivlibCompatibilityWarning)\n",
            "c:\\Users\\15164\\Anaconda3\\anaconda3\\lib\\site-packages\\diffprivlib\\utils.py:88: DiffprivlibCompatibilityWarning: Parameter 'random_state' is not functional in diffprivlib.  Remove this parameter to suppress this warning.\n",
            "  \"warning.\" % arg, DiffprivlibCompatibilityWarning)\n",
            "c:\\Users\\15164\\Anaconda3\\anaconda3\\lib\\site-packages\\diffprivlib\\utils.py:88: DiffprivlibCompatibilityWarning: Parameter 'random_state' is not functional in diffprivlib.  Remove this parameter to suppress this warning.\n",
            "  \"warning.\" % arg, DiffprivlibCompatibilityWarning)\n",
            "c:\\Users\\15164\\Anaconda3\\anaconda3\\lib\\site-packages\\diffprivlib\\utils.py:88: DiffprivlibCompatibilityWarning: Parameter 'random_state' is not functional in diffprivlib.  Remove this parameter to suppress this warning.\n",
            "  \"warning.\" % arg, DiffprivlibCompatibilityWarning)\n",
            "c:\\Users\\15164\\Anaconda3\\anaconda3\\lib\\site-packages\\diffprivlib\\utils.py:88: DiffprivlibCompatibilityWarning: Parameter 'random_state' is not functional in diffprivlib.  Remove this parameter to suppress this warning.\n",
            "  \"warning.\" % arg, DiffprivlibCompatibilityWarning)\n",
            "c:\\Users\\15164\\Anaconda3\\anaconda3\\lib\\site-packages\\diffprivlib\\utils.py:88: DiffprivlibCompatibilityWarning: Parameter 'random_state' is not functional in diffprivlib.  Remove this parameter to suppress this warning.\n",
            "  \"warning.\" % arg, DiffprivlibCompatibilityWarning)\n",
            "c:\\Users\\15164\\Anaconda3\\anaconda3\\lib\\site-packages\\diffprivlib\\utils.py:88: DiffprivlibCompatibilityWarning: Parameter 'random_state' is not functional in diffprivlib.  Remove this parameter to suppress this warning.\n",
            "  \"warning.\" % arg, DiffprivlibCompatibilityWarning)\n",
            "c:\\Users\\15164\\Anaconda3\\anaconda3\\lib\\site-packages\\diffprivlib\\utils.py:88: DiffprivlibCompatibilityWarning: Parameter 'random_state' is not functional in diffprivlib.  Remove this parameter to suppress this warning.\n",
            "  \"warning.\" % arg, DiffprivlibCompatibilityWarning)\n",
            "c:\\Users\\15164\\Anaconda3\\anaconda3\\lib\\site-packages\\diffprivlib\\utils.py:88: DiffprivlibCompatibilityWarning: Parameter 'random_state' is not functional in diffprivlib.  Remove this parameter to suppress this warning.\n",
            "  \"warning.\" % arg, DiffprivlibCompatibilityWarning)\n",
            "c:\\Users\\15164\\Anaconda3\\anaconda3\\lib\\site-packages\\diffprivlib\\utils.py:88: DiffprivlibCompatibilityWarning: Parameter 'random_state' is not functional in diffprivlib.  Remove this parameter to suppress this warning.\n",
            "  \"warning.\" % arg, DiffprivlibCompatibilityWarning)\n",
            "c:\\Users\\15164\\Anaconda3\\anaconda3\\lib\\site-packages\\diffprivlib\\utils.py:88: DiffprivlibCompatibilityWarning: Parameter 'random_state' is not functional in diffprivlib.  Remove this parameter to suppress this warning.\n",
            "  \"warning.\" % arg, DiffprivlibCompatibilityWarning)\n",
            "c:\\Users\\15164\\Anaconda3\\anaconda3\\lib\\site-packages\\diffprivlib\\utils.py:88: DiffprivlibCompatibilityWarning: Parameter 'random_state' is not functional in diffprivlib.  Remove this parameter to suppress this warning.\n",
            "  \"warning.\" % arg, DiffprivlibCompatibilityWarning)\n",
            "c:\\Users\\15164\\Anaconda3\\anaconda3\\lib\\site-packages\\diffprivlib\\utils.py:88: DiffprivlibCompatibilityWarning: Parameter 'random_state' is not functional in diffprivlib.  Remove this parameter to suppress this warning.\n",
            "  \"warning.\" % arg, DiffprivlibCompatibilityWarning)\n",
            "c:\\Users\\15164\\Anaconda3\\anaconda3\\lib\\site-packages\\diffprivlib\\utils.py:88: DiffprivlibCompatibilityWarning: Parameter 'random_state' is not functional in diffprivlib.  Remove this parameter to suppress this warning.\n",
            "  \"warning.\" % arg, DiffprivlibCompatibilityWarning)\n",
            "c:\\Users\\15164\\Anaconda3\\anaconda3\\lib\\site-packages\\diffprivlib\\utils.py:88: DiffprivlibCompatibilityWarning: Parameter 'random_state' is not functional in diffprivlib.  Remove this parameter to suppress this warning.\n",
            "  \"warning.\" % arg, DiffprivlibCompatibilityWarning)\n",
            "c:\\Users\\15164\\Anaconda3\\anaconda3\\lib\\site-packages\\diffprivlib\\utils.py:88: DiffprivlibCompatibilityWarning: Parameter 'random_state' is not functional in diffprivlib.  Remove this parameter to suppress this warning.\n",
            "  \"warning.\" % arg, DiffprivlibCompatibilityWarning)\n",
            "c:\\Users\\15164\\Anaconda3\\anaconda3\\lib\\site-packages\\diffprivlib\\utils.py:88: DiffprivlibCompatibilityWarning: Parameter 'random_state' is not functional in diffprivlib.  Remove this parameter to suppress this warning.\n",
            "  \"warning.\" % arg, DiffprivlibCompatibilityWarning)\n",
            "c:\\Users\\15164\\Anaconda3\\anaconda3\\lib\\site-packages\\diffprivlib\\utils.py:88: DiffprivlibCompatibilityWarning: Parameter 'random_state' is not functional in diffprivlib.  Remove this parameter to suppress this warning.\n",
            "  \"warning.\" % arg, DiffprivlibCompatibilityWarning)\n",
            "c:\\Users\\15164\\Anaconda3\\anaconda3\\lib\\site-packages\\diffprivlib\\utils.py:88: DiffprivlibCompatibilityWarning: Parameter 'random_state' is not functional in diffprivlib.  Remove this parameter to suppress this warning.\n",
            "  \"warning.\" % arg, DiffprivlibCompatibilityWarning)\n",
            "c:\\Users\\15164\\Anaconda3\\anaconda3\\lib\\site-packages\\diffprivlib\\utils.py:88: DiffprivlibCompatibilityWarning: Parameter 'random_state' is not functional in diffprivlib.  Remove this parameter to suppress this warning.\n",
            "  \"warning.\" % arg, DiffprivlibCompatibilityWarning)\n",
            "c:\\Users\\15164\\Anaconda3\\anaconda3\\lib\\site-packages\\diffprivlib\\utils.py:88: DiffprivlibCompatibilityWarning: Parameter 'random_state' is not functional in diffprivlib.  Remove this parameter to suppress this warning.\n",
            "  \"warning.\" % arg, DiffprivlibCompatibilityWarning)\n",
            "c:\\Users\\15164\\Anaconda3\\anaconda3\\lib\\site-packages\\diffprivlib\\utils.py:88: DiffprivlibCompatibilityWarning: Parameter 'random_state' is not functional in diffprivlib.  Remove this parameter to suppress this warning.\n",
            "  \"warning.\" % arg, DiffprivlibCompatibilityWarning)\n",
            "c:\\Users\\15164\\Anaconda3\\anaconda3\\lib\\site-packages\\diffprivlib\\utils.py:88: DiffprivlibCompatibilityWarning: Parameter 'random_state' is not functional in diffprivlib.  Remove this parameter to suppress this warning.\n",
            "  \"warning.\" % arg, DiffprivlibCompatibilityWarning)\n",
            "c:\\Users\\15164\\Anaconda3\\anaconda3\\lib\\site-packages\\diffprivlib\\utils.py:88: DiffprivlibCompatibilityWarning: Parameter 'random_state' is not functional in diffprivlib.  Remove this parameter to suppress this warning.\n",
            "  \"warning.\" % arg, DiffprivlibCompatibilityWarning)\n",
            "c:\\Users\\15164\\Anaconda3\\anaconda3\\lib\\site-packages\\diffprivlib\\utils.py:88: DiffprivlibCompatibilityWarning: Parameter 'random_state' is not functional in diffprivlib.  Remove this parameter to suppress this warning.\n",
            "  \"warning.\" % arg, DiffprivlibCompatibilityWarning)\n",
            "c:\\Users\\15164\\Anaconda3\\anaconda3\\lib\\site-packages\\diffprivlib\\utils.py:88: DiffprivlibCompatibilityWarning: Parameter 'random_state' is not functional in diffprivlib.  Remove this parameter to suppress this warning.\n",
            "  \"warning.\" % arg, DiffprivlibCompatibilityWarning)\n",
            "c:\\Users\\15164\\Anaconda3\\anaconda3\\lib\\site-packages\\diffprivlib\\utils.py:88: DiffprivlibCompatibilityWarning: Parameter 'random_state' is not functional in diffprivlib.  Remove this parameter to suppress this warning.\n",
            "  \"warning.\" % arg, DiffprivlibCompatibilityWarning)\n",
            "c:\\Users\\15164\\Anaconda3\\anaconda3\\lib\\site-packages\\diffprivlib\\utils.py:88: DiffprivlibCompatibilityWarning: Parameter 'random_state' is not functional in diffprivlib.  Remove this parameter to suppress this warning.\n",
            "  \"warning.\" % arg, DiffprivlibCompatibilityWarning)\n",
            "c:\\Users\\15164\\Anaconda3\\anaconda3\\lib\\site-packages\\diffprivlib\\utils.py:88: DiffprivlibCompatibilityWarning: Parameter 'random_state' is not functional in diffprivlib.  Remove this parameter to suppress this warning.\n",
            "  \"warning.\" % arg, DiffprivlibCompatibilityWarning)\n",
            "c:\\Users\\15164\\Anaconda3\\anaconda3\\lib\\site-packages\\diffprivlib\\utils.py:88: DiffprivlibCompatibilityWarning: Parameter 'random_state' is not functional in diffprivlib.  Remove this parameter to suppress this warning.\n",
            "  \"warning.\" % arg, DiffprivlibCompatibilityWarning)\n",
            "c:\\Users\\15164\\Anaconda3\\anaconda3\\lib\\site-packages\\diffprivlib\\utils.py:88: DiffprivlibCompatibilityWarning: Parameter 'random_state' is not functional in diffprivlib.  Remove this parameter to suppress this warning.\n",
            "  \"warning.\" % arg, DiffprivlibCompatibilityWarning)\n",
            "c:\\Users\\15164\\Anaconda3\\anaconda3\\lib\\site-packages\\diffprivlib\\utils.py:88: DiffprivlibCompatibilityWarning: Parameter 'random_state' is not functional in diffprivlib.  Remove this parameter to suppress this warning.\n",
            "  \"warning.\" % arg, DiffprivlibCompatibilityWarning)\n",
            "c:\\Users\\15164\\Anaconda3\\anaconda3\\lib\\site-packages\\diffprivlib\\utils.py:88: DiffprivlibCompatibilityWarning: Parameter 'random_state' is not functional in diffprivlib.  Remove this parameter to suppress this warning.\n",
            "  \"warning.\" % arg, DiffprivlibCompatibilityWarning)\n"
          ]
        },
        {
          "data": {
            "image/png": "[encoded data removed]",
            "text/plain": [
              "<Figure size 432x288 with 1 Axes>"
            ]
          },
          "metadata": {},
          "output_type": "display_data"
        }
      ],
      "source": [
        "# Plot the score as a function of epsilon\n",
        "import matplotlib.pyplot as plt\n",
        "x = np.arange(0.01, 2.01, 0.01)\n",
        "y = [dp.LogisticRegression(epsilon=eps, data_norm=1.0, random_state=0).fit(df.data, df.target).score(df.data, df.target) for eps in x]\n",
        "plt.plot(x, y)\n",
        "plt.plot(x, 200*[clf.score(df.data, df.target)])\n",
        "plt.title(\"Score as a function of epsilon\")\n",
        "plt.xlabel(\"Epsilon\")\n",
        "plt.ylabel(\"Score\")\n",
        "plt.legend([\"Differentially private\", \"Non-private\"])\n",
        "plt.show()\n"
      ]
    },
    {
      "cell_type": "code",
      "execution_count": 47,
      "metadata": {},
      "outputs": [
        {
          "data": {
            "text/plain": [
              "[8, 8, 8]"
            ]
          },
          "execution_count": 47,
          "metadata": {},
          "output_type": "execute_result"
        }
      ],
      "source": []
    },
    {
      "cell_type": "code",
      "execution_count": null,
      "metadata": {},
      "outputs": [],
      "source": []
    }
  ],
  "metadata": {
    "colab": {
      "include_colab_link": true,
      "provenance": []
    },
    "kernelspec": {
      "display_name": "base",
      "language": "python",
      "name": "python3"
    },
    "language_info": {
      "codemirror_mode": {
        "name": "ipython",
        "version": 3
      },
      "file_extension": ".py",
      "mimetype": "text/x-python",
      "name": "python",
      "nbconvert_exporter": "python",
      "pygments_lexer": "ipython3",
      "version": "3.6.5"
    },
    "vscode": {
      "interpreter": {
        "hash": "9e9800f934fa2398575d7cc3df1b13e465d22ae7d0be200c5fea8736bf386c83"
      }
    }
  },
  "nbformat": 4,
  "nbformat_minor": 0
}
